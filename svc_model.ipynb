{
  "cells": [
    {
      "cell_type": "markdown",
      "metadata": {
        "id": "rX8mhOLljYeM"
      },
      "source": [
        "##### Copyright 2019 The TensorFlow Authors."
      ]
    },
    {
      "cell_type": "code",
      "execution_count": 1,
      "metadata": {
        "cellView": "form",
        "id": "BZSlp3DAjdYf",
        "vscode": {
          "languageId": "python"
        }
      },
      "outputs": [],
      "source": [
        "#@title Licensed under the Apache License, Version 2.0 (the \"License\");\n",
        "# you may not use this file except in compliance with the License.\n",
        "# You may obtain a copy of the License at\n",
        "#\n",
        "# https://www.apache.org/licenses/LICENSE-2.0\n",
        "#\n",
        "# Unless required by applicable law or agreed to in writing, software\n",
        "# distributed under the License is distributed on an \"AS IS\" BASIS,\n",
        "# WITHOUT WARRANTIES OR CONDITIONS OF ANY KIND, either express or implied.\n",
        "# See the License for the specific language governing permissions and\n",
        "# limitations under the License."
      ]
    },
    {
      "cell_type": "code",
      "execution_count": 3,
      "metadata": {
        "colab": {
          "base_uri": "https://localhost:8080/"
        },
        "id": "bOYz892A3RaR",
        "outputId": "0512078a-daad-4b3b-97c4-c759099cac38",
        "vscode": {
          "languageId": "python"
        }
      },
      "outputs": [
        {
          "name": "stdout",
          "output_type": "stream",
          "text": [
            "              precision    recall  f1-score   support\n",
            "\n",
            "           0       0.85      0.99      0.91       897\n",
            "           1       0.99      0.82      0.90       923\n",
            "\n",
            "    accuracy                           0.91      1820\n",
            "   macro avg       0.92      0.91      0.91      1820\n",
            "weighted avg       0.92      0.91      0.91      1820\n",
            "\n"
          ]
        }
      ],
      "source": [
        "import tensorflow as tf\n",
        "from tensorflow import keras\n",
        "import matplotlib.pyplot as plt\n",
        "import pandas as pd\n",
        "import numpy as np\n",
        "import math\n",
        "import seaborn as sns\n",
        "from mpmath import*\n",
        "import random\n",
        "import csv\n",
        "from random import randint\n",
        "list1 = list(csv.reader(open('amb_lncrna.csv')))\n",
        "list2 = list(csv.reader(open('amb_mrna.csv')))\n",
        "header1, header2 = list1.pop(0), list2.pop(0)\n",
        "random.shuffle(list1)\n",
        "random.shuffle(list2)\n",
        "listout = []\n",
        "i=list(range(len(list1)))\n",
        "random.shuffle(i)\n",
        "for j in i:\n",
        "  listout.append(list1[j])\n",
        "  listout.append(list2[j])\n",
        "random.shuffle(listout)\n",
        "listout=[header1]+listout\n",
        "outputwriter = csv.writer(open(\"listout.csv\", \"w\"))\n",
        "outputwriter.writerows(listout)\n",
        "df = pd.read_csv('listout.csv')\n",
        "from sklearn.model_selection import train_test_split\n",
        "x = df.drop(['target'],axis =1)\n",
        "y = df['target']\n",
        "x_train, x_test, y_train, y_test = train_test_split(x, y, test_size=0.2, random_state=5)\n",
        "from sklearn.svm import SVC\n",
        "from sklearn.metrics import classification_report , confusion_matrix\n",
        "svc_model= SVC()\n",
        "svc_model.fit(x_train,y_train)\n",
        "y_predict =svc_model.predict(x_test)\n",
        "min_train =x_train.min()\n",
        "range_train =(x_train - min_train).max()\n",
        "x_train_scaled =(x_train-min_train)/range_train\n",
        "#sns.scatterplot(x = x_train['average'], y= x_train['maximum'],hue =y_train)\n",
        "print(classification_report(y_test,y_predict))"
      ]
    },
    {
      "cell_type": "code",
      "execution_count": null,
      "metadata": {
        "colab": {
          "base_uri": "https://localhost:8080/"
        },
        "id": "f4FART6cBOaF",
        "outputId": "412be2fa-19be-44ae-82cc-56b509a000ea",
        "vscode": {
          "languageId": "python"
        }
      },
      "outputs": [
        {
          "name": "stdout",
          "output_type": "stream",
          "text": [
            "        average    medians    maximum    minimum        peak    peak_two  \\\n",
            "1577  -7.357294  -6.800514  39.492076 -33.527150  -35.474999  417.975620   \n",
            "757   -9.549487  -8.574609  34.052074 -38.061800  -14.869908  275.292038   \n",
            "2621 -11.730200 -11.048515  28.591493 -36.397646   -6.564253  183.933230   \n",
            "6044 -10.343064  -9.054106  31.961446 -30.189985  -10.925196  234.365570   \n",
            "4818 -10.812166 -10.655621  31.246000 -28.056415   -9.341329  225.072805   \n",
            "...         ...        ...        ...        ...         ...         ...   \n",
            "7286  -1.867776  -0.997139  49.656760 -33.058374 -455.622205  796.360559   \n",
            "3046 -12.041616 -11.393366  29.217927 -30.726701   -6.643626  197.793919   \n",
            "4079  -4.201003  -3.265677  44.499348 -27.910796 -112.116074  558.794333   \n",
            "2254  -6.198853  -5.732058  39.811998 -30.643313  -45.492288  401.143259   \n",
            "2915 -12.432862 -11.624894  27.701288 -28.148807   -5.469376  174.067299   \n",
            "\n",
            "        stddev  percentile15  percentile25  percentil50  percentile75  \\\n",
            "1577  5.808466    -12.295691    -10.409540    -6.800514     -3.405353   \n",
            "757   6.583242    -15.291997    -12.237185    -8.574609     -5.838129   \n",
            "2621  6.340422    -17.141118    -14.988982   -11.048515     -7.699325   \n",
            "6044  6.582738    -16.588451    -13.453739    -9.054106     -6.113322   \n",
            "4818  5.606187    -16.355653    -13.667762   -10.655621     -7.249500   \n",
            "...        ...           ...           ...          ...           ...   \n",
            "7286  5.554165     -7.300221     -4.687458    -0.997139      1.770124   \n",
            "3046  5.886803    -17.089070    -15.002845   -11.393366     -8.243829   \n",
            "4079  5.723527     -9.669803     -6.705696    -3.265677     -0.496329   \n",
            "2254  5.954507    -11.910392    -10.009861    -5.732058     -2.196530   \n",
            "2915  6.025596    -17.600633    -15.376343   -11.624894     -8.906284   \n",
            "\n",
            "      amplitude   variance  interquartile_range  semi_interquartile_range  \\\n",
            "1577  73.019226  33.738277             7.004188                  3.502094   \n",
            "757   72.113874  43.339078             6.399056                  3.199528   \n",
            "2621  64.989139  40.200957             7.289658                  3.644829   \n",
            "6044  62.151430  43.332443             7.340416                  3.670208   \n",
            "4818  59.302415  31.429328             6.418263                  3.209131   \n",
            "...         ...        ...                  ...                       ...   \n",
            "7286  82.715134  30.848744             6.457583                  3.228791   \n",
            "3046  59.944628  34.654453             6.759016                  3.379508   \n",
            "4079  72.410144  32.758766             6.209367                  3.104683   \n",
            "2254  70.455310  35.456157             7.813331                  3.906665   \n",
            "2915  55.850095  36.307810             6.470060                  3.235030   \n",
            "\n",
            "       coefficient_of_variation  kurtosis  \n",
            "1577                  -0.789484  0.277473  \n",
            "757                   -0.689382  0.245194  \n",
            "2621                  -0.540521  0.256467  \n",
            "6044                  -0.636440  0.256759  \n",
            "4818                  -0.518507  0.250059  \n",
            "...                         ...       ...  \n",
            "7286                  -2.973679  0.243536  \n",
            "3046                  -0.488872  0.245913  \n",
            "4079                  -1.362419  0.239567  \n",
            "2254                  -0.960582  0.281455  \n",
            "2915                  -0.484651  0.205273  \n",
            "\n",
            "[7289 rows x 17 columns]\n"
          ]
        }
      ],
      "source": [
        "print(x_train)\n"
      ]
    }
  ],
  "metadata": {
    "colab": {
      "collapsed_sections": [
        "rX8mhOLljYeM"
      ],
      "provenance": []
    },
    "kernelspec": {
      "display_name": "Python 3",
      "name": "python3"
    }
  },
  "nbformat": 4,
  "nbformat_minor": 0
}
